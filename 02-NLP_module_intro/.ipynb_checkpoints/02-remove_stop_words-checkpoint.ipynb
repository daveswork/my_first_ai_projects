{
 "cells": [
  {
   "cell_type": "code",
   "execution_count": 14,
   "id": "6c259a10-9c41-45b3-9a0c-9a6c72d8c9fe",
   "metadata": {},
   "outputs": [
    {
     "name": "stderr",
     "output_type": "stream",
     "text": [
      "[nltk_data] Downloading package stopwords to /home/dave/nltk_data...\n",
      "[nltk_data]   Package stopwords is already up-to-date!\n"
     ]
    },
    {
     "data": {
      "text/plain": [
       "True"
      ]
     },
     "execution_count": 14,
     "metadata": {},
     "output_type": "execute_result"
    }
   ],
   "source": [
    "import nltk\n",
    "nltk.download('stopwords')"
   ]
  },
  {
   "cell_type": "code",
   "execution_count": 15,
   "id": "72fb0914-d5b4-4f6a-a40f-02d9f567996f",
   "metadata": {},
   "outputs": [],
   "source": [
    "from nltk.corpus import stopwords"
   ]
  },
  {
   "cell_type": "code",
   "execution_count": 16,
   "id": "c87a4dcb-1535-4890-85e2-49e22a5606b9",
   "metadata": {},
   "outputs": [],
   "source": [
    "en_stopwords = stopwords.words('english')"
   ]
  },
  {
   "cell_type": "code",
   "execution_count": 17,
   "id": "9089b7e7-60a8-41e5-9a1c-15ab5d1c9b43",
   "metadata": {},
   "outputs": [],
   "source": [
    "sentence = \"it was too far to go to the shop and he did not want her to walk\""
   ]
  },
  {
   "cell_type": "code",
   "execution_count": 18,
   "id": "8c735f51-84ef-4242-ae92-58c8ac8bcab6",
   "metadata": {},
   "outputs": [],
   "source": [
    "sentence_no_stopwords = ' '.join([word for word in sentence.split() if word not in en_stopwords])"
   ]
  },
  {
   "cell_type": "code",
   "execution_count": 19,
   "id": "542b8945-e390-46dc-bd7d-29acab415738",
   "metadata": {},
   "outputs": [
    {
     "name": "stdout",
     "output_type": "stream",
     "text": [
      "far go shop want walk\n"
     ]
    }
   ],
   "source": [
    "print(sentence_no_stopwords)"
   ]
  },
  {
   "cell_type": "code",
   "execution_count": 20,
   "id": "aaf3542d-d65a-428c-9147-aedffe65b9c6",
   "metadata": {},
   "outputs": [],
   "source": [
    "en_stopwords.remove('not')\n",
    "en_stopwords.remove('did')"
   ]
  },
  {
   "cell_type": "code",
   "execution_count": 21,
   "id": "cb74d54a-4390-4efb-8bc3-c0d4bd70b3b7",
   "metadata": {},
   "outputs": [],
   "source": [
    "sentence_no_stopwords_custom = ' '.join([word for word in sentence.split() if word not in en_stopwords])"
   ]
  },
  {
   "cell_type": "code",
   "execution_count": 22,
   "id": "24fcf47e-be31-48b4-996a-0685af5008c6",
   "metadata": {},
   "outputs": [
    {
     "data": {
      "text/plain": [
       "'far go shop did not want walk'"
      ]
     },
     "execution_count": 22,
     "metadata": {},
     "output_type": "execute_result"
    }
   ],
   "source": [
    "sentence_no_stopwords_custom"
   ]
  },
  {
   "cell_type": "code",
   "execution_count": null,
   "id": "ed6cd894-4b07-46e5-bf64-a1bc5c3757ce",
   "metadata": {},
   "outputs": [],
   "source": []
  }
 ],
 "metadata": {
  "kernelspec": {
   "display_name": "Python 3 (ipykernel)",
   "language": "python",
   "name": "python3"
  },
  "language_info": {
   "codemirror_mode": {
    "name": "ipython",
    "version": 3
   },
   "file_extension": ".py",
   "mimetype": "text/x-python",
   "name": "python",
   "nbconvert_exporter": "python",
   "pygments_lexer": "ipython3",
   "version": "3.12.10"
  }
 },
 "nbformat": 4,
 "nbformat_minor": 5
}
