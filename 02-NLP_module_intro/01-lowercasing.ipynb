{
 "cells": [
  {
   "cell_type": "code",
   "execution_count": 2,
   "id": "6ac8bd3e-610f-4281-b637-0f76953f23a0",
   "metadata": {},
   "outputs": [],
   "source": [
    "sentence = \"Her cat's name is Luna\""
   ]
  },
  {
   "cell_type": "code",
   "execution_count": 4,
   "id": "0cdc8269-6c0b-47d8-a485-cd4b996b9226",
   "metadata": {},
   "outputs": [],
   "source": [
    "lower_sentence = sentence.lower()"
   ]
  },
  {
   "cell_type": "code",
   "execution_count": 5,
   "id": "8f374aa0-5269-43ba-8afa-aa910b47f0ba",
   "metadata": {},
   "outputs": [
    {
     "name": "stdout",
     "output_type": "stream",
     "text": [
      "her cat's name is luna\n"
     ]
    }
   ],
   "source": [
    "print(lower_sentence)"
   ]
  },
  {
   "cell_type": "code",
   "execution_count": 6,
   "id": "a9661027-4220-439c-906c-175694062bc9",
   "metadata": {},
   "outputs": [],
   "source": [
    "sentence_list = [\n",
    "    \"Could you pass me the TV remote?\",\n",
    "    \"It is IMPOSSIBLE to find this hotel\",\n",
    "    \"Want to go for dinner on Tuesday?\"\n",
    "]"
   ]
  },
  {
   "cell_type": "code",
   "execution_count": 7,
   "id": "ff193d2e-621e-4510-8cd0-ba25de05f65e",
   "metadata": {},
   "outputs": [],
   "source": [
    "lower_sentences = [ x.lower() for x in sentence_list]"
   ]
  },
  {
   "cell_type": "code",
   "execution_count": 8,
   "id": "29a00040-317a-43d1-b691-2ff7893ba3e3",
   "metadata": {},
   "outputs": [
    {
     "name": "stdout",
     "output_type": "stream",
     "text": [
      "['could you pass me the tv remote?', 'it is impossible to find this hotel', 'want to go for dinner on tuesday?']\n"
     ]
    }
   ],
   "source": [
    "print(lower_sentences)"
   ]
  },
  {
   "cell_type": "code",
   "execution_count": null,
   "id": "77e5ddb0-3147-4b31-994a-00121cc491ae",
   "metadata": {},
   "outputs": [],
   "source": []
  }
 ],
 "metadata": {
  "kernelspec": {
   "display_name": "Python 3 (ipykernel)",
   "language": "python",
   "name": "python3"
  },
  "language_info": {
   "codemirror_mode": {
    "name": "ipython",
    "version": 3
   },
   "file_extension": ".py",
   "mimetype": "text/x-python",
   "name": "python",
   "nbconvert_exporter": "python",
   "pygments_lexer": "ipython3",
   "version": "3.12.10"
  }
 },
 "nbformat": 4,
 "nbformat_minor": 5
}
