{
 "cells": [
  {
   "cell_type": "code",
   "execution_count": 1,
   "id": "1b29a1d1-7955-43c2-9633-26600d09fd1e",
   "metadata": {},
   "outputs": [],
   "source": [
    "import re"
   ]
  },
  {
   "cell_type": "code",
   "execution_count": 3,
   "id": "05249618-a46f-44ee-b7ad-bf58defccc36",
   "metadata": {},
   "outputs": [
    {
     "name": "stdout",
     "output_type": "stream",
     "text": [
      "c:\\desktop\\notes\n"
     ]
    }
   ],
   "source": [
    "my_folder = r\"c:\\desktop\\notes\"\n",
    "print(my_folder)"
   ]
  },
  {
   "cell_type": "code",
   "execution_count": 4,
   "id": "ead27eb6-75b7-44c8-98d9-6d26a10a0b3b",
   "metadata": {},
   "outputs": [],
   "source": [
    "result_search = re.search(\"pattern\", r\"string to contain the pattern\")"
   ]
  },
  {
   "cell_type": "code",
   "execution_count": 5,
   "id": "9c3275aa-6266-4996-a701-7ba05dfd77db",
   "metadata": {},
   "outputs": [
    {
     "name": "stdout",
     "output_type": "stream",
     "text": [
      "<re.Match object; span=(22, 29), match='pattern'>\n"
     ]
    }
   ],
   "source": [
    "print(result_search)"
   ]
  },
  {
   "cell_type": "code",
   "execution_count": 6,
   "id": "4e61d1a1-20e0-401d-827e-609dc6771fe5",
   "metadata": {},
   "outputs": [],
   "source": [
    "result_search_2 = re.search(\"pattern\", r\"the phrase to find isn't in this string\")"
   ]
  },
  {
   "cell_type": "code",
   "execution_count": 7,
   "id": "60a488e7-8b22-4f43-9721-4d58bbebb3a2",
   "metadata": {},
   "outputs": [
    {
     "name": "stdout",
     "output_type": "stream",
     "text": [
      "None\n"
     ]
    }
   ],
   "source": [
    "print(result_search_2)"
   ]
  },
  {
   "cell_type": "code",
   "execution_count": 8,
   "id": "e1e6cc71-4fdc-4716-a23f-f2abea451d5c",
   "metadata": {},
   "outputs": [],
   "source": [
    "string = r\"sara was able to help me find the items i needed quickly\""
   ]
  },
  {
   "cell_type": "code",
   "execution_count": 9,
   "id": "b589a2d4-7dea-47ce-8f6b-5ccf329f9647",
   "metadata": {},
   "outputs": [],
   "source": [
    "new_string = re.sub(\"sara\", \"sarah\", string)"
   ]
  },
  {
   "cell_type": "code",
   "execution_count": 10,
   "id": "01ba07a2-5cd5-487c-85e1-2a228249a9e0",
   "metadata": {},
   "outputs": [
    {
     "name": "stdout",
     "output_type": "stream",
     "text": [
      "sarah was able to help me find the items i needed quickly\n"
     ]
    }
   ],
   "source": [
    "print(new_string)"
   ]
  },
  {
   "cell_type": "code",
   "execution_count": null,
   "id": "dc9cc3cc-faea-4769-9d7c-fbaa405c7caa",
   "metadata": {},
   "outputs": [],
   "source": []
  }
 ],
 "metadata": {
  "kernelspec": {
   "display_name": "Python 3 (ipykernel)",
   "language": "python",
   "name": "python3"
  },
  "language_info": {
   "codemirror_mode": {
    "name": "ipython",
    "version": 3
   },
   "file_extension": ".py",
   "mimetype": "text/x-python",
   "name": "python",
   "nbconvert_exporter": "python",
   "pygments_lexer": "ipython3",
   "version": "3.12.10"
  }
 },
 "nbformat": 4,
 "nbformat_minor": 5
}
