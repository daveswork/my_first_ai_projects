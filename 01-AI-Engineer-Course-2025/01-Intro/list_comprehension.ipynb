{
 "cells": [
  {
   "cell_type": "code",
   "execution_count": 1,
   "id": "1de96b1b-67fe-4361-b880-b858a071240c",
   "metadata": {},
   "outputs": [],
   "source": [
    "numbers = [1,13, 4, 5, 63, 100]"
   ]
  },
  {
   "cell_type": "code",
   "execution_count": 6,
   "id": "1180ed11-6444-4a04-b573-40db4816049b",
   "metadata": {},
   "outputs": [
    {
     "name": "stdout",
     "output_type": "stream",
     "text": [
      "[20, 40, 60, 80, 100]\n"
     ]
    }
   ],
   "source": [
    "print([ i * 10 for i in range(1,11) if i % 2 == 0])"
   ]
  },
  {
   "cell_type": "code",
   "execution_count": null,
   "id": "8e0f0c3d-763e-4af7-8ba3-9ee3cfc52339",
   "metadata": {},
   "outputs": [],
   "source": []
  }
 ],
 "metadata": {
  "kernelspec": {
   "display_name": "Python 3 (ipykernel)",
   "language": "python",
   "name": "python3"
  },
  "language_info": {
   "codemirror_mode": {
    "name": "ipython",
    "version": 3
   },
   "file_extension": ".py",
   "mimetype": "text/x-python",
   "name": "python",
   "nbconvert_exporter": "python",
   "pygments_lexer": "ipython3",
   "version": "3.12.10"
  }
 },
 "nbformat": 4,
 "nbformat_minor": 5
}
